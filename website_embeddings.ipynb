{
 "cells": [
  {
   "cell_type": "code",
   "execution_count": 1,
   "id": "f7ebe218-db7b-4189-8a38-f52f2ee66347",
   "metadata": {},
   "outputs": [],
   "source": [
    "import os\n",
    "import openai\n",
    "import json\n",
    "from dotenv import load_dotenv\n",
    "\n",
    "def load_json(filename):\n",
    "    with open(filename, 'r', encoding='utf-8') as file:\n",
    "        data = json.load(file)\n",
    "    return data\n",
    "\n",
    "\n",
    "load_dotenv()\n",
    "openai.organization = os.getenv(\"OPENAI_ORG\")\n",
    "openai.api_key = os.getenv(\"OPENAI_API_KEY\")"
   ]
  },
  {
   "cell_type": "code",
   "execution_count": 19,
   "id": "55314073-200b-4b70-8c55-17fb47a6c47e",
   "metadata": {},
   "outputs": [],
   "source": [
    "def load_json(filename):\n",
    "    with open(filename, 'r', encoding='utf-8') as file:\n",
    "        data = json.load(file)\n",
    "    return data\n",
    "\n",
    "def save_json(filename,data):\n",
    "    with open(filename, 'w', encoding='utf-8') as f:\n",
    "        json.dump(data, f, indent=4)\n",
    "    return"
   ]
  },
  {
   "cell_type": "code",
   "execution_count": 12,
   "id": "2c3dd0af-02de-4c4e-a598-5ac62a531d01",
   "metadata": {},
   "outputs": [],
   "source": [
    "from IPython.display import JSON"
   ]
  },
  {
   "cell_type": "code",
   "execution_count": 14,
   "id": "2324cf30-0c00-4b2d-bcf8-76ed46bf1165",
   "metadata": {},
   "outputs": [
    {
     "data": {
      "text/plain": [
       "419"
      ]
     },
     "execution_count": 14,
     "metadata": {},
     "output_type": "execute_result"
    }
   ],
   "source": [
    "json_data = load_json(\"website_data/export/chunks.json\")\n",
    "#JSON(json_data)\n",
    "len(json_data)"
   ]
  },
  {
   "cell_type": "code",
   "execution_count": 15,
   "id": "8ab595e5-c862-44bf-91dd-858225e1cf11",
   "metadata": {},
   "outputs": [],
   "source": [
    "text_input = json_data[:10]"
   ]
  },
  {
   "cell_type": "code",
   "execution_count": 16,
   "id": "d1573806-ee66-464a-a533-a90dc8f29c64",
   "metadata": {},
   "outputs": [],
   "source": [
    "response = openai.Embedding.create(\n",
    "    input=text_input,\n",
    "    model=\"text-embedding-ada-002\",\n",
    "    user=\"website_embeddings.ipynb\"\n",
    ")"
   ]
  },
  {
   "cell_type": "code",
   "execution_count": 22,
   "id": "fcb76488-a77a-4d4d-a930-e284454b81af",
   "metadata": {},
   "outputs": [],
   "source": [
    "#JSON(response)"
   ]
  },
  {
   "cell_type": "code",
   "execution_count": 21,
   "id": "df9837a1-0c19-4262-abad-f9415abf123a",
   "metadata": {},
   "outputs": [],
   "source": [
    "save_json(\"website_data/embeddings/response.json\",response)"
   ]
  },
  {
   "cell_type": "code",
   "execution_count": 25,
   "id": "6722e739-a8be-4a14-88ad-d256916809a0",
   "metadata": {},
   "outputs": [],
   "source": [
    "embeddings = [entry[\"embedding\"] for entry in response[\"data\"] ]\n",
    "#JSON(embeddings)"
   ]
  },
  {
   "cell_type": "code",
   "execution_count": 26,
   "id": "a7c17629-45b1-4bbf-9db6-919c6337530b",
   "metadata": {},
   "outputs": [],
   "source": [
    "save_json(\"website_data/embeddings/embeddings.json\",embeddings)"
   ]
  },
  {
   "cell_type": "code",
   "execution_count": null,
   "id": "116cdbf3-16df-4ac9-b19d-c8025c6bef74",
   "metadata": {},
   "outputs": [],
   "source": [
    "embeddings = load_json(\"website_data/embeddings/embeddings.json\")"
   ]
  }
 ],
 "metadata": {
  "kernelspec": {
   "display_name": "Python 3 (ipykernel)",
   "language": "python",
   "name": "python3"
  },
  "language_info": {
   "codemirror_mode": {
    "name": "ipython",
    "version": 3
   },
   "file_extension": ".py",
   "mimetype": "text/x-python",
   "name": "python",
   "nbconvert_exporter": "python",
   "pygments_lexer": "ipython3",
   "version": "3.10.11"
  }
 },
 "nbformat": 4,
 "nbformat_minor": 5
}
