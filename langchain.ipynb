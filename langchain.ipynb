{
 "cells": [
  {
   "cell_type": "code",
   "execution_count": 1,
   "id": "0286617f-1e55-4fd1-a9c0-ba2950e21c4e",
   "metadata": {},
   "outputs": [],
   "source": [
    "from langchain.text_splitter import CharacterTextSplitter\n",
    "from dotenv import load_dotenv\n",
    "from langchain.embeddings import OpenAIEmbeddings\n",
    "from langchain.vectorstores import FAISS\n",
    "from langchain.chains.question_answering import load_qa_chain\n",
    "from langchain.llms import OpenAI\n",
    "from langchain.callbacks import get_openai_callback"
   ]
  },
  {
   "cell_type": "code",
   "execution_count": 2,
   "id": "03347f94-4ea4-49f0-aa4f-8daca3a08083",
   "metadata": {},
   "outputs": [],
   "source": [
    "from IPython.display import JSON"
   ]
  },
  {
   "cell_type": "code",
   "execution_count": 3,
   "id": "17f920fa-f197-4b4f-94b4-f6b29885845e",
   "metadata": {},
   "outputs": [],
   "source": [
    "text = \"\"\"This is a text extract from https://www.homesmartmesh.com/\n",
    "\n",
    "it consists of the first section 'Netowrks' but 'Frameworks, Applications, Assistans' have been omitted\n",
    "\n",
    "# Networks\n",
    "Ethernet and wifi being used by most generic consumer devices is very convenient and is used wherever it is possible. Even smaller devices with relatively low power such as ESP32 can use wifi, which solves all communication questions and can even provide a webserver hosted on the microcontroller. Usage of websocket allow browsers and webapps such as Home 3D to be independent from proxy servers which increases the flexibility of the client servers architecture and allows clients to run on any device (Smartphone / PC : mac, win,linux). MQTT lowers the application overhead in comparison to REST API and solves all communication scenarios with client polling and server based events notification.\n",
    "\"\"\"\n",
    "\n",
    "splitter = CharacterTextSplitter(\n",
    "separator=\"\\n\",\n",
    "chunk_size=300,\n",
    "chunk_overlap=50,\n",
    "length_function=len\n",
    ")\n",
    "chunks = splitter.split_text(text)"
   ]
  },
  {
   "cell_type": "code",
   "execution_count": 18,
   "id": "3af3b981-9205-43e0-9b58-fb4c334188f2",
   "metadata": {},
   "outputs": [
    {
     "name": "stdout",
     "output_type": "stream",
     "text": [
      "[\n",
      "    \"This is a text extract from https://www.homesmartmesh.com/\\nit consists of the first section 'Netowrks' but 'Frameworks, Applications, Assistans' have been omitted\\n# Networks\",\n",
      "    \"Ethernet and wifi being used by most generic consumer devices is very convenient and is used wherever it is possible. Even smaller devices with relatively low power such as ESP32 can use wifi, which solves all communication questions and can even provide a webserver hosted on the microcontroller. Usage of websocket allow browsers and webapps such as Home 3D to be independent from proxy servers which increases the flexibility of the client servers architecture and allows clients to run on any device (Smartphone / PC : mac, win,linux). MQTT lowers the application overhead in comparison to REST API and solves all communication scenarios with client polling and server based events notification.\"\n",
      "]\n"
     ]
    }
   ],
   "source": [
    "import json\n",
    "print(json.dumps(chunks,indent=4))"
   ]
  },
  {
   "cell_type": "code",
   "execution_count": 5,
   "id": "18ab00f1-7d87-409f-bd45-231375736470",
   "metadata": {},
   "outputs": [],
   "source": [
    "load_dotenv()\n",
    "embeddings = OpenAIEmbeddings()\n",
    "knowledge_base = FAISS.from_texts(chunks, embeddings)"
   ]
  },
  {
   "cell_type": "code",
   "execution_count": 7,
   "id": "e78413b6-7b13-47f0-9f59-17c23b043a15",
   "metadata": {},
   "outputs": [
    {
     "name": "stdout",
     "output_type": "stream",
     "text": [
      "<langchain.vectorstores.faiss.FAISS object at 0x000001C59D54B250>\n"
     ]
    }
   ],
   "source": [
    "print(knowledge_base)"
   ]
  },
  {
   "cell_type": "code",
   "execution_count": 8,
   "id": "7f5df1ad-8266-41a6-9a46-dc1c2c55e405",
   "metadata": {},
   "outputs": [],
   "source": [
    "question = \"How can MQTT help the consumer network ?\"\n",
    "references = knowledge_base.similarity_search(question)"
   ]
  },
  {
   "cell_type": "code",
   "execution_count": 25,
   "id": "ff531949-f4af-4d85-ae71-bfa357ece7e0",
   "metadata": {},
   "outputs": [
    {
     "data": {
      "application/json": [
       [
        [
         "page_content",
         "Ethernet and wifi being used by most generic consumer devices is very convenient and is used wherever it is possible. Even smaller devices with relatively low power such as ESP32 can use wifi, which solves all communication questions and can even provide a webserver hosted on the microcontroller. Usage of websocket allow browsers and webapps such as Home 3D to be independent from proxy servers which increases the flexibility of the client servers architecture and allows clients to run on any device (Smartphone / PC : mac, win,linux). MQTT lowers the application overhead in comparison to REST API and solves all communication scenarios with client polling and server based events notification."
        ],
        [
         "metadata",
         {}
        ]
       ],
       [
        [
         "page_content",
         "This is a text extract from https://www.homesmartmesh.com/\nit consists of the first section 'Netowrks' but 'Frameworks, Applications, Assistans' have been omitted\n# Networks"
        ],
        [
         "metadata",
         {}
        ]
       ]
      ],
      "text/plain": [
       "<IPython.core.display.JSON object>"
      ]
     },
     "execution_count": 25,
     "metadata": {
      "application/json": {
       "expanded": false,
       "root": "root"
      }
     },
     "output_type": "execute_result"
    }
   ],
   "source": [
    "JSON(references)"
   ]
  },
  {
   "cell_type": "code",
   "execution_count": 11,
   "id": "629e9e19-1fc8-477d-a89e-6ae97f089820",
   "metadata": {},
   "outputs": [
    {
     "name": "stdout",
     "output_type": "stream",
     "text": [
      "Tokens Used: 275\n",
      "\tPrompt Tokens: 239\n",
      "\tCompletion Tokens: 36\n",
      "Successful Requests: 1\n",
      "Total Cost (USD): $0.0055\n"
     ]
    }
   ],
   "source": [
    "llm = OpenAI()\n",
    "chain = load_qa_chain(llm, chain_type=\"stuff\")\n",
    "with get_openai_callback() as cb:\n",
    "    response = chain.run(input_documents=references, question=question)\n",
    "    print(cb)"
   ]
  },
  {
   "cell_type": "code",
   "execution_count": 12,
   "id": "4b47a310-320a-482a-b7e2-1944aff7fe5a",
   "metadata": {},
   "outputs": [
    {
     "name": "stdout",
     "output_type": "stream",
     "text": [
      " MQTT can help the consumer network by lowering the application overhead in comparison to REST API, and it can also solve all communication scenarios with client polling and server based events notification.\n"
     ]
    }
   ],
   "source": [
    "print(response)"
   ]
  }
 ],
 "metadata": {
  "kernelspec": {
   "display_name": "Python 3 (ipykernel)",
   "language": "python",
   "name": "python3"
  },
  "language_info": {
   "codemirror_mode": {
    "name": "ipython",
    "version": 3
   },
   "file_extension": ".py",
   "mimetype": "text/x-python",
   "name": "python",
   "nbconvert_exporter": "python",
   "pygments_lexer": "ipython3",
   "version": "3.10.11"
  }
 },
 "nbformat": 4,
 "nbformat_minor": 5
}
