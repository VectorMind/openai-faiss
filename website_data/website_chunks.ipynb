{
 "cells": [
  {
   "cell_type": "code",
   "execution_count": 24,
   "id": "fcaaf1ce-de95-43dd-89ff-9c68784c0c63",
   "metadata": {},
   "outputs": [],
   "source": [
    "import website_chunks as wc\n",
    "import numpy as np\n",
    "import json"
   ]
  },
  {
   "cell_type": "markdown",
   "id": "da6893de-9488-408d-bfa3-86fc4a3c6011",
   "metadata": {},
   "source": [
    "# Sitemap\n",
    "first the sitemap file needs to be identified e.g. `sitemap_index.xml`, `sitemap-0.xml` or other, in this case saved in `export/sitemap.xml`"
   ]
  },
  {
   "cell_type": "code",
   "execution_count": null,
   "id": "81c5e6c6-e458-4e6d-a576-baa72150ff5a",
   "metadata": {},
   "outputs": [],
   "source": [
    "wc.sitemap_to_urls_list()"
   ]
  },
  {
   "cell_type": "code",
   "execution_count": 27,
   "id": "241fb484-36dc-43f6-b577-f671a3cea353",
   "metadata": {},
   "outputs": [
    {
     "name": "stdout",
     "output_type": "stream",
     "text": [
      "240\n"
     ]
    }
   ],
   "source": [
    "en_urls = wc.load_json('export/en_urls.json')\n",
    "print(len(en_urls))"
   ]
  },
  {
   "cell_type": "markdown",
   "id": "f32c6779-df45-48b1-8fe6-887842822023",
   "metadata": {},
   "source": [
    "## en_urls.json\n",
    "```json\n",
    "[\r\n",
    "    \"https://docs.astro.build/en/concepts/islands/\",\r\n",
    "    \"https://docs.astro.build/en/concepts/mpa-vs-spa/\",\r\n",
    "    \"https://docs.astro.build/en/concepts/why-astro/\",\r\n",
    "    \"https://docs.astro.build/en/contribut/\",\r\n",
    "\n",
    "```"
   ]
  },
  {
   "cell_type": "markdown",
   "id": "53910808-9b42-4da2-8753-539ab98642a2",
   "metadata": {},
   "source": [
    "# Files info\n",
    "`files_list_to_map()` generates a map of files for each web page, as key is the path hash"
   ]
  },
  {
   "cell_type": "code",
   "execution_count": null,
   "id": "1cb9ec8d-12d9-4b52-b7f3-56fe07fb3a55",
   "metadata": {},
   "outputs": [],
   "source": [
    "wc.files_list_to_map()"
   ]
  },
  {
   "cell_type": "code",
   "execution_count": 28,
   "id": "a59b099b-27a0-4d9d-a3b7-094e2531646d",
   "metadata": {},
   "outputs": [
    {
     "name": "stdout",
     "output_type": "stream",
     "text": [
      "240\n"
     ]
    }
   ],
   "source": [
    "files_map = wc.load_json(\"export/files_info.json\")\n",
    "print(len(files_map))"
   ]
  },
  {
   "cell_type": "markdown",
   "id": "d48e8460-623b-481f-a3a4-a61f84d21b98",
   "metadata": {},
   "source": [
    "## files_info.json\n",
    "```json\n",
    "{\r\n",
    "    \"97ea3d014e\": {\r\n",
    "        \"title\": \"Astro Islands \\ud83d\\ude80 Astro Documentation\",\r\n",
    "        \"description\": \"Astro Islands (aka Component Islands) are a patte...nds/\",\r\n",
    "        \"path\": \"concepts/islands\"\r\n",
    "\n",
    "    ...\n",
    "   },\r\n",
    "\n",
    "```"
   ]
  },
  {
   "cell_type": "markdown",
   "id": "ce72f2aa-ad8e-4994-9956-16c06c913bc9",
   "metadata": {},
   "source": [
    "# Export html\n",
    "`export_html()` exports each html page to a .html file and `convert_all_html_to_text()` strips out all unnecessary content `[\"script\", \"style\",\"head\",\"header\",\"aside\",\"nav\"]` but keeps the title and the description"
   ]
  },
  {
   "cell_type": "code",
   "execution_count": null,
   "id": "dfae5e78-752b-4ed2-a4c3-154b5b517040",
   "metadata": {},
   "outputs": [],
   "source": [
    "wc.export_html()\n",
    "wc.convert_all_html_to_text()"
   ]
  },
  {
   "cell_type": "markdown",
   "id": "e575fedf-a4b6-431f-9bb1-8cb078b6cbeb",
   "metadata": {},
   "source": [
    "## Example text file\n",
    "content from file `0bacd55ddc.txt`\n",
    "\n",
    "\n",
    "`title: Installing a Vite or Rollup plugin 🚀 Astro Documentation\n",
    "\n",
    "description: Learn how you can import YAML data by adding a Rollup plugin to your project\n",
    "\r\n",
    "Astro builds on top of Vite, and supports both Vite and Rollup plugins. This recipe uses a Rollup plugin to add the ability to import a YAML (.yml) file in Astro.\r\n",
    "RecipeSection titled Recipe\r\n",
    "Install @rollup/plug yamlnm.ya.`\n",
    "ev\r\n"
   ]
  },
  {
   "cell_type": "markdown",
   "id": "2ee28363-d685-4616-a04b-a55eacb493ba",
   "metadata": {},
   "source": [
    "# Chunking\n",
    "the chunking generates two files \n",
    "* `chunks_info.json` a map that can trace the file_hash and file_path of the chunk as well as its id and number of tokens.\n",
    "* `chunks.json` a simple list of string with the content of each chunk\n",
    "\n",
    "the chunks are taking each page separately, then truncate a max_tokens 1000 and use an overlap of 200"
   ]
  },
  {
   "cell_type": "code",
   "execution_count": null,
   "id": "31c14109-f6ca-4527-80e3-9ef4abf96d22",
   "metadata": {},
   "outputs": [],
   "source": [
    "wc.convert_all_text_to_chunks()"
   ]
  },
  {
   "cell_type": "markdown",
   "id": "f55e104d-b8d4-418e-89a3-65c1836f76a1",
   "metadata": {},
   "source": [
    "## chunks_infos.json\n",
    "```json\n",
    "[\r\n",
    "    {\r\n",
    "        \"chunk_id\": 0,\r\n",
    "        \"chunk_uid\": \"97ea3d014e-0\",\r\n",
    "        \"file_hash\": \"97ea3d014e\",\r\n",
    "        \"file_path\": \"concepts/islands\",\r\n",
    "        \"nb_tokens\": 847,\r\n",
    "        \"content\": \"title:...\"Policy\"\n",
    "   ,\r\n",
    "\n",
    "``` },\r\n",
    "\n",
    "```"
   ]
  },
  {
   "cell_type": "markdown",
   "id": "291fc359-76c8-43a7-8acb-a244eb2ee2f2",
   "metadata": {},
   "source": [
    "## chunks.json\n",
    "\n",
    "```json\n",
    "[\n",
    "    \"title: Astro Islands \\ud83d\\ude80 Astro Documentation description: Astro Islands...\",\n",
    "    \"title: MPAs vs. SPAs \\ud83d\\ude80 Astro Documentation description: Understanding ...\",\n",
    "    \"to run. This gives MPAs a much faster first load experience than SPAs, ...\",\n",
    "    \"title: Why Astro? \\ud83d\\ude80 Astro Documentation description: Astro is an ...\",\n",
    "\n",
    "```"
   ]
  }
 ],
 "metadata": {
  "kernelspec": {
   "display_name": "Python 3 (ipykernel)",
   "language": "python",
   "name": "python3"
  },
  "language_info": {
   "codemirror_mode": {
    "name": "ipython",
    "version": 3
   },
   "file_extension": ".py",
   "mimetype": "text/x-python",
   "name": "python",
   "nbconvert_exporter": "python",
   "pygments_lexer": "ipython3",
   "version": "3.10.11"
  }
 },
 "nbformat": 4,
 "nbformat_minor": 5
}
